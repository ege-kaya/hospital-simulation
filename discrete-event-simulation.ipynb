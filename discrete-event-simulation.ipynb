{
  "nbformat": 4,
  "nbformat_minor": 0,
  "metadata": {
    "kernelspec": {
      "display_name": "Python 3",
      "language": "python",
      "name": "python3"
    },
    "language_info": {
      "codemirror_mode": {
        "name": "ipython",
        "version": 3
      },
      "file_extension": ".py",
      "mimetype": "text/x-python",
      "name": "python",
      "nbconvert_exporter": "python",
      "pygments_lexer": "ipython3",
      "version": "3.7.1"
    },
    "colab": {
      "name": "IE306_Group3_HW1.ipynb",
      "provenance": [],
      "collapsed_sections": []
    }
  },
  "cells": [
    {
      "cell_type": "markdown",
      "metadata": {
        "id": "EaG2WIgsU4Vy"
      },
      "source": [
        "# IE 306.02 System Simulation Homework 1\n",
        "\n",
        "**Berkay Bör - Ege Can Kaya - Zuhal Didem Aytaç**\n",
        "\n",
        "**2017400138 - 2018400018 - 2018400045**\n",
        "\n",
        "This is our simulation for IE 306.02 System Simulation Homework 1.\n",
        "\n",
        "In this discrete event simulation, $  N = 1201  $ individuals get sick at random times with an exponantial rate $ \\lambda = 1/300 $. An individual who is sick either goes to the hospital with probability 0.2 or stays at home with probability  $  0.8 $ . There are $ K = 51 $ beds in the hospital. If all K beds are full when an individual arrives to the hospital, that patient is rejected and treated home. \n"
      ]
    },
    {
      "cell_type": "code",
      "metadata": {
        "id": "87aWlAOdGHDC",
        "colab": {
          "base_uri": "https://localhost:8080/"
        },
        "outputId": "5dcc0c23-f652-4ce2-e4cb-646e9958f758"
      },
      "source": [
        "# outputs are too long, especially for simulations with 100,000 time units\n",
        "# google colab only shows the last 5000 lines of the output\n",
        "# therefore, to get to full output, we need to write the output to a file\n",
        "# we chose to write to a file on google drive\n",
        "\n",
        "from google.colab import drive\n",
        "drive.mount('/content/drive')"
      ],
      "execution_count": null,
      "outputs": [
        {
          "output_type": "stream",
          "text": [
            "Mounted at /content/drive\n"
          ],
          "name": "stdout"
        }
      ]
    },
    {
      "cell_type": "code",
      "metadata": {
        "id": "PrRAXoFGFRG5",
        "colab": {
          "base_uri": "https://localhost:8080/"
        },
        "outputId": "8637bf79-4b7e-49d4-9ec2-85c85118b1c0"
      },
      "source": [
        "# import the requirements\n",
        "!pip install simpy\n",
        "import os\n",
        "import sys\n",
        "import random\n",
        "import simpy\n",
        "\n",
        "# the below block is needed to write to a file on google drive\n",
        "\n",
        "os.chdir(\"/content/drive/\")\n",
        "out = open('/content/drive/MyDrive/ie306-p1/output-1.txt','w')\n"
      ],
      "execution_count": null,
      "outputs": [
        {
          "output_type": "stream",
          "text": [
            "Requirement already satisfied: simpy in /usr/local/lib/python3.7/dist-packages (4.0.1)\n"
          ],
          "name": "stdout"
        }
      ]
    },
    {
      "cell_type": "markdown",
      "metadata": {
        "id": "_ewRFSOlU4V6"
      },
      "source": [
        "The input variables are calculated in the following way:\n",
        "\n",
        " $ S = 045 + 018 + 138 = 201  $ \n",
        " \n",
        " $ N = 1000+S=1201  $ \n",
        "\n",
        " $  K  = ceiling(N/24) = 51  [beds]  $ \n",
        "\n",
        "getting sick rate  $  LAMBDA =  \\lambda  = 1/300  [patients/day]  $ \n",
        "\n",
        "\n",
        "A sick person is healed with an independent exponential time with following rates:\n",
        "\n",
        " $ RATE_1 = 1/6 [days]^{-1} $ (healing rate for a patient being treated in the hospital)\n",
        "\n",
        " $  RATE_2 = 1/10 [days]^{-1}$ (healing rate for a patient that does not go to the hospital) \n",
        "\n",
        "When an individual is rejected due to full capacity and is home treated, the healing time is longer, with r ~ U[1,2] \n",
        "\n",
        " $  RATE_3 = RATE_1 * r [days]^{-1}$ (healing rate for a patient that is rejected by the hospital due to full capacity)\n"
      ]
    },
    {
      "cell_type": "code",
      "metadata": {
        "id": "7G2-vGWOF4KG"
      },
      "source": [
        "# define the input variables\n",
        "N = 1201\n",
        "K = 51\n",
        "LAMBDA = 1/300\n",
        "RATE_1 = 1/6\n",
        "RATE_2 = 1/10\n",
        "RANDOM_SEED = 1\n",
        "SIM_TIME = 1000\n",
        "NO_INITIAL_ILL = 0\n",
        "random.seed(RANDOM_SEED)"
      ],
      "execution_count": null,
      "outputs": []
    },
    {
      "cell_type": "markdown",
      "metadata": {
        "id": "z4ORM19lU4V6"
      },
      "source": [
        "We define the necessary set of arrays and global variables"
      ]
    },
    {
      "cell_type": "code",
      "metadata": {
        "id": "K6FHKPSUGAi1"
      },
      "source": [
        "# we need event based statistics, so when an event occurs, we log the current state of the system\n",
        "\n",
        "no_sick = 0       # number of sick people\n",
        "no_hospital = 0   # number of people getting treatment in the hospital (number of full beds)\n",
        "no_healed = 0     # number of healed people\n",
        "\n",
        "no_events = 0     # number of events occured\n",
        "no_empty = 0      # number of event that the beds are all empty\n",
        "\n",
        "sickness_times = []\n",
        "occupied_beds = []  # event based list of number of occupied beds in the hospital\n",
        "sick_people = []    # event based list of proportion of sick people in the population"
      ],
      "execution_count": null,
      "outputs": []
    },
    {
      "cell_type": "markdown",
      "metadata": {
        "id": "a8mVglymGUU2"
      },
      "source": [
        "The get sick in random with exponential rate (interarrival times)"
      ]
    },
    {
      "cell_type": "code",
      "metadata": {
        "id": "0BZv1jlCGbjt"
      },
      "source": [
        "def time_to_ailment():\n",
        "  return random.expovariate(LAMBDA)"
      ],
      "execution_count": null,
      "outputs": []
    },
    {
      "cell_type": "markdown",
      "metadata": {
        "id": "G4kP0luEU4V8"
      },
      "source": [
        "The class definition for the people arriving at the modeled system.\n",
        "\n",
        "Once a person gets sick, he/she immediately goes to the hospital with probability 0.2 <br>\n",
        "If so, and if the hospital is not full, the person is assigned to a bed and treated in the hospital<br>\n",
        "If the hospital is full, the person is treated at home. <br>\n",
        "If the person does not go to the hospital, he/she immediately starts home remedies.\n",
        "\n",
        "The processes for hospital treatment, home treathment and home remedies are defined according to the description with individual rates defined above. \n",
        "\n",
        "Details can be found in the comments"
      ]
    },
    {
      "cell_type": "code",
      "metadata": {
        "id": "fZawG_PlGrA-"
      },
      "source": [
        "class Person(object):\n",
        "  def __init__(self, env, name, hospital, dummy):\n",
        "    self.env = env\n",
        "    self.name = name\n",
        "    self.dummy = dummy\n",
        "    self.ill = False\n",
        "\n",
        "    if not dummy:\n",
        "      self.process = env.process(self.living(hospital))\n",
        "      env.process(self.ail())\n",
        "    else:\n",
        "      self.process = env.process(self.direct_hospitalization(hospital))\n",
        "\n",
        "  # this part implements the cases where we start with the hospital half full and full\n",
        "  # in these cases, we start with having K/2 or K beds occupied at time 0.\n",
        "  def direct_hospitalization(self, hospital):\n",
        "    global no_sick, no_hospital, no_healed\n",
        "    self.ill = True\n",
        "    no_sick += 1\n",
        "\n",
        "    with hospital.request() as req:\n",
        "      yield req\n",
        "      no_hospital += 1\n",
        "      out.write('%s got assigned to a bed at hospital, time: 0, no. of sick people: %g, no. of people in hospital: %g\\n' \n",
        "      % (self.name, no_sick, no_hospital))\n",
        "\n",
        "      yield self.env.process(self.get_treatment())\n",
        "      self.ill = False\n",
        "      no_hospital -= 1\n",
        "      no_sick -= 1\n",
        "      no_healed += 1\n",
        "      out.write('%s healed, time: %g, no. of sick people: %g, no. of people in hospital: %g\\n' \n",
        "      % (self.name, self.env.now, no_sick, no_hospital))\n",
        "\n",
        "\n",
        "      self.process = env.process(self.living(hospital))\n",
        "      env.process(self.ail())\n",
        "  \n",
        "  # this part implements the main body of the simulation\n",
        "  def living(self, hospital):\n",
        "    global no_sick, no_hospital, no_events, no_empty, no_healed\n",
        "    while True:\n",
        "      # until the simulation time ends, people getting ill raise interrupts to the system\n",
        "      try:\n",
        "        yield env.timeout(SIM_TIME)\n",
        "      \n",
        "      # a person became ill and raise an interrupt to the system.\n",
        "      except simpy.Interrupt:\n",
        "        self.ill = True\n",
        "        no_sick += 1\n",
        "        prob = random.uniform(0, 1)\n",
        "\n",
        "        # An individual who is sick goes to the hospital with probability 0.2 \n",
        "        if prob < .2:\n",
        "\n",
        "          # if the hospital is not full, a bed is requested\n",
        "          if no_hospital != K:\n",
        "            with hospital.request() as req:\n",
        "              yield req\n",
        "              no_hospital += 1\n",
        "              out.write('%s got assigned to a bed at hospital, time: %g, no. of sick people: %g, no. of people in hospital: %g\\n' \n",
        "              % (self.name, self.env.now, no_sick, no_hospital))\n",
        "              no_events += 1\n",
        "              occupied_beds.append(no_hospital)\n",
        "              sick_people.append(no_sick/N)\n",
        "              yield self.env.process(self.get_treatment())\n",
        "\n",
        "              # After the treatment process ends, the person is no longer ill\n",
        "              # We make the necessary changes in variables\n",
        "              # We log this event and the current state of the system\n",
        "              self.ill = False\n",
        "              no_hospital -= 1\n",
        "              no_sick -= 1\n",
        "              no_healed += 1\n",
        "              out.write('%s healed, time: %g, no. of sick people: %g, no. of people in hospital: %g\\n' \n",
        "              % (self.name, self.env.now, no_sick, no_hospital))\n",
        "              no_events += 1\n",
        "              if no_hospital == 0: no_empty += 1\n",
        "              occupied_beds.append(no_hospital)\n",
        "              sick_people.append(no_sick/N)\n",
        "\n",
        "          # if the hospital is full, the person is rejected and starts home treatment\n",
        "          else:\n",
        "            out.write('%s got rejected from hospital and started home treatment, time: %g, no. of sick people: %g, no. of people in hospital: %g\\n' \n",
        "            % (self.name, self.env.now, no_sick, no_hospital))\n",
        "            no_events += 1\n",
        "            if no_hospital == 0: no_empty += 1\n",
        "            occupied_beds.append(no_hospital)\n",
        "            sick_people.append(no_sick/N)\n",
        "            yield self.env.process(self.rejected_treatment())\n",
        "\n",
        "            # After the treatment process ends, the person is no longer ill\n",
        "            # We make the necessary changes in variables\n",
        "            # We log this event and the current state of the system\n",
        "            self.ill = False\n",
        "            no_sick -= 1\n",
        "            no_healed += 1\n",
        "            out.write('%s healed, time: %g, no. of sick people: %g, no. of people in hospital: %g\\n' \n",
        "            % (self.name, self.env.now, no_sick, no_hospital))\n",
        "\n",
        "            no_events += 1\n",
        "            if no_hospital == 0: no_empty += 1\n",
        "            occupied_beds.append(no_hospital)\n",
        "            sick_people.append(no_sick/N)\n",
        "          \n",
        "        # An individual who is sick stays at home with probability  0.8\n",
        "        else:\n",
        "          out.write('%s started home treament, time: %g, no. of sick people: %g, no. of people in hospital: %g\\n' \n",
        "          % (self.name, self.env.now, no_sick, no_hospital))\n",
        "          no_events += 1\n",
        "          if no_hospital == 0: no_empty += 1\n",
        "          occupied_beds.append(no_hospital)\n",
        "          sick_people.append(no_sick/N)\n",
        "          yield self.env.process(self.self_care())\n",
        "\n",
        "          # After the treatment process ends, the person is no longer ill\n",
        "          # We make the necessary changes in variables\n",
        "          # We log this event and the current state of the system\n",
        "          self.ill = False\n",
        "          no_sick -= 1\n",
        "          no_healed += 1\n",
        "          out.write('%s healed, time: %g, no. of sick people: %g, no. of people in hospital: %g\\n' \n",
        "          % (self.name, self.env.now, no_sick, no_hospital))\n",
        "          no_events += 1\n",
        "          if no_hospital == 0: no_empty += 1\n",
        "          occupied_beds.append(no_hospital)\n",
        "          sick_people.append(no_sick/N)\n",
        "\n",
        "# this function implements the process of a person becoming ill\n",
        "# the time people become ill is random and exponential with rate lambda  \n",
        "  def ail(self):\n",
        "    while True:\n",
        "      yield self.env.timeout(time_to_ailment())\n",
        "      if not self.ill:\n",
        "        self.process.interrupt()\n",
        "\n",
        "# this function implements the case when a person is treated in the hospital\n",
        "# the healing process is random and exponential with rate RATE_1 \n",
        "# after the healing duration ends, this function returns and necessary actions are taken\n",
        "  def get_treatment(self):\n",
        "    duration = random.expovariate(RATE_1)\n",
        "    yield self.env.timeout(duration)\n",
        "    sickness_times.append(duration)\n",
        "\n",
        "# this function implements the case when a person does not go to the hospital and is treated with self care\n",
        "# the healing process is random and exponential with rate RATE_2\n",
        "# after the healing duration ends, this function returns and necessary actions are taken\n",
        "  def self_care(self):\n",
        "    duration = random.expovariate(RATE_2)\n",
        "    yield self.env.timeout(duration)\n",
        "    sickness_times.append(duration)\n",
        "\n",
        "# this function implements the case when a person goes to the hospital and is rejected due to full capacity\n",
        "# the healing process takes longer than it would normally take in the hospital\n",
        "# the healing process is random and exponential with rate RATE_2\n",
        "# after the healing duration ends, this function returns and necessary actions are taken\n",
        "  def rejected_treatment(self):\n",
        "    r = random.uniform(1, 2)\n",
        "    duration = random.expovariate((1/r)*RATE_1)\n",
        "    yield self.env.timeout(duration)\n",
        "    sickness_times.append(duration)"
      ],
      "execution_count": null,
      "outputs": []
    },
    {
      "cell_type": "markdown",
      "metadata": {
        "id": "z-I07aOrG4U_"
      },
      "source": [
        "Define the environment, population and run the simulation"
      ]
    },
    {
      "cell_type": "code",
      "metadata": {
        "id": "8AokDje2G7Ne"
      },
      "source": [
        "env = simpy.Environment()\n",
        "hospital = simpy.Resource(env, capacity=K)\n",
        "population = [Person(env, 'Person %d' % i, hospital, i < NO_INITIAL_ILL)\n",
        "            for i in range(N)]  \n",
        "\n",
        "env.run(SIM_TIME)\n"
      ],
      "execution_count": null,
      "outputs": []
    },
    {
      "cell_type": "markdown",
      "metadata": {
        "id": "HMLvuJ2KHAJO"
      },
      "source": [
        "Print out the model responses"
      ]
    },
    {
      "cell_type": "code",
      "metadata": {
        "id": "OBkMkWF2HEZj"
      },
      "source": [
        "out.write('Long run probability of hospital being empty: %g\\n' % (no_empty/no_events))\n",
        "out.write('Average number of occupied beds: %g\\n' % (sum(occupied_beds)/len(occupied_beds)))\n",
        "out.write('Average proportion of sick population: %g\\n' % (sum(sick_people)/len(sick_people)))\n",
        "out.write('Total average sickness time: %g\\n' % (sum(sickness_times)/len(sickness_times)))\n",
        "out.write('Random number seed: %g\\n' % RANDOM_SEED)\n",
        "out.write('Simulation length: %g\\n' % SIM_TIME)\n",
        "out.write('No. of initially occupied beds: %g' % NO_INITIAL_ILL)\n",
        "\n",
        "out.close()"
      ],
      "execution_count": null,
      "outputs": []
    }
  ]
}